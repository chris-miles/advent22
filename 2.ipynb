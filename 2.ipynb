{
 "cells": [
  {
   "cell_type": "code",
   "execution_count": 30,
   "metadata": {},
   "outputs": [
    {
     "name": "stdout",
     "output_type": "stream",
     "text": [
      "13809"
     ]
    }
   ],
   "source": [
    "input = readlines(open(\"2.txt\",\"r\"));\n",
    "# X rock, Y paper, Z Scissors\n",
    "# (1 for Rock, 2 for Paper, and 3 for Scissors) \n",
    "# A rock, B paper, C Scissors\n",
    "# (0 if you lost, 3 if the round was a draw, and 6 if you won).\n",
    "scoremap = Dict(\n",
    "    \"A X\" => 1+3, \n",
    "    \"A Y\" => 2+6, \n",
    "    \"A Z\" => 3+0,\n",
    "     \"B X\"=> 1+0,\n",
    "     \"B Y\"=>2+3, \n",
    "     \"B Z\"=>3+6,\n",
    "    \"C X\"=> 1+6, \n",
    "    \"C Y\" => 2+0, \n",
    "    \"C Z\"=>3+3\n",
    ");\n",
    "tot =0;\n",
    "for i in input\n",
    "tot = tot + scoremap[i]\n",
    "end \n",
    "print(tot)\n"
   ]
  },
  {
   "cell_type": "code",
   "execution_count": 31,
   "metadata": {},
   "outputs": [
    {
     "name": "stdout",
     "output_type": "stream",
     "text": [
      "12316"
     ]
    }
   ],
   "source": [
    "# part 2\n",
    "input = readlines(open(\"2.txt\",\"r\"));\n",
    "scoremap = Dict(\n",
    "    \"A X\" => 3, \n",
    "    \"A Y\" => 4, \n",
    "    \"A Z\" => 8,\n",
    "     \"B X\"=> 1,\n",
    "     \"B Y\"=>5, \n",
    "     \"B Z\"=>9,\n",
    "    \"C X\"=> 2, \n",
    "    \"C Y\" => 6, \n",
    "    \"C Z\"=>7\n",
    ");\n",
    "tot =0;\n",
    "for i in input\n",
    "tot = tot + scoremap[i]\n",
    "end \n",
    "print(tot)"
   ]
  }
 ],
 "metadata": {
  "kernelspec": {
   "display_name": "Julia 1.7.2",
   "language": "julia",
   "name": "julia-1.7"
  },
  "language_info": {
   "file_extension": ".jl",
   "mimetype": "application/julia",
   "name": "julia",
   "version": "1.7.2"
  },
  "orig_nbformat": 4
 },
 "nbformat": 4,
 "nbformat_minor": 2
}
