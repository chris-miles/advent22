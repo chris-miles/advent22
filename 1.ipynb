{
 "cells": [
  {
   "cell_type": "code",
   "execution_count": 62,
   "metadata": {},
   "outputs": [
    {
     "name": "stdout",
     "output_type": "stream",
     "text": [
      "71300"
     ]
    }
   ],
   "source": [
    "input = readlines(open(\"1.txt\",\"r\"));\n",
    "m = 0; c = 0;\n",
    "for i in input\n",
    "    if i==\"\" if c>m  m = c  end\n",
    "    c=0\n",
    "    else c=c+parse(Int64, i) \n",
    "    end \n",
    "end \n",
    "print(m)"
   ]
  },
  {
   "cell_type": "code",
   "execution_count": 71,
   "metadata": {},
   "outputs": [
    {
     "name": "stdout",
     "output_type": "stream",
     "text": [
      "209691"
     ]
    }
   ],
   "source": [
    "input = readlines(open(\"1.txt\",\"r\"));\n",
    "m1=0; m2=0; m3=0; c=0;\n",
    "for i in input\n",
    "    if i==\"\" \n",
    "        if c>m1  \n",
    "            m3 = m2\n",
    "            m2 = m1\n",
    "            m1 =c\n",
    "        elseif (c>m2)\n",
    "            m3=m2\n",
    "            m2=c\n",
    "        elseif (c>m3)\n",
    "            m3=c  \n",
    "        end\n",
    "    c=0\n",
    "    else \n",
    "        c=c+parse(Int64, i) \n",
    "    end \n",
    "end \n",
    "print(m1+m2+m3)"
   ]
  },
  {
   "cell_type": "code",
   "execution_count": null,
   "metadata": {},
   "outputs": [],
   "source": []
  }
 ],
 "metadata": {
  "kernelspec": {
   "display_name": "Julia 1.7.2",
   "language": "julia",
   "name": "julia-1.7"
  },
  "language_info": {
   "file_extension": ".jl",
   "mimetype": "application/julia",
   "name": "julia",
   "version": "1.7.2"
  },
  "orig_nbformat": 4
 },
 "nbformat": 4,
 "nbformat_minor": 2
}
