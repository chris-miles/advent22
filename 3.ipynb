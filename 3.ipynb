{
 "cells": [
  {
   "cell_type": "code",
   "execution_count": 56,
   "metadata": {},
   "outputs": [
    {
     "name": "stdout",
     "output_type": "stream",
     "text": [
      "7850"
     ]
    }
   ],
   "source": [
    "# part 1\n",
    "input = readlines(open(\"3.txt\",\"r\"));\n",
    "tot=0;\n",
    "for i in input\n",
    "    part1=i[1:Integer(length(i)/2)]\n",
    "    part2=i[Integer(length(i)/2)+1:end]\n",
    "    ii=intersect(part1,part2)\n",
    "    intval = Int(ii[1])\n",
    "    \n",
    "    if intval>= 97 # 'Int('a')=97\n",
    "        intval = intval-96 # but a-> 1, z-> 26 etc\n",
    "    else # upper case starts at  Int('A')=65\n",
    "        intval=intval-65+27 # 'A' maps to 27 b\n",
    "    end \n",
    "    tot=tot+intval; \n",
    " end \n",
    "print(tot)"
   ]
  },
  {
   "cell_type": "code",
   "execution_count": 60,
   "metadata": {},
   "outputs": [
    {
     "name": "stdout",
     "output_type": "stream",
     "text": [
      "2581"
     ]
    }
   ],
   "source": [
    "# part 2\n",
    "input = readlines(open(\"3.txt\",\"r\"));\n",
    "tot=0;\n",
    "lines = length(input)\n",
    "\n",
    "for i in 1:Int(lines/3)\n",
    "    line1 = input[1+3*(i-1)]\n",
    "    line2 = input[2+3*(i-1)]\n",
    "    line3 = input[3+3*(i-1)]\n",
    "\n",
    "    ii1=intersect(line1,line2)\n",
    "    ii2 = intersect(ii1,line3)\n",
    "\n",
    "    intval = Int(ii2[1])\n",
    "    \n",
    "    if intval>= 97 # 'Int('a')=97\n",
    "        intval = intval-96 # but a-> 1, z-> 26 etc\n",
    "    else # upper case starts at  Int('A')=65\n",
    "        intval=intval-65+27 # 'A' maps to 27 b\n",
    "    end \n",
    "    tot=tot+intval; \n",
    " end \n",
    "print(tot)"
   ]
  },
  {
   "cell_type": "code",
   "execution_count": null,
   "metadata": {},
   "outputs": [],
   "source": []
  }
 ],
 "metadata": {
  "kernelspec": {
   "display_name": "Julia 1.7.2",
   "language": "julia",
   "name": "julia-1.7"
  },
  "language_info": {
   "file_extension": ".jl",
   "mimetype": "application/julia",
   "name": "julia",
   "version": "1.7.2"
  },
  "orig_nbformat": 4
 },
 "nbformat": 4,
 "nbformat_minor": 2
}
